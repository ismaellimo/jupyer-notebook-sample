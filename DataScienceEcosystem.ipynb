{
 "cells": [
  {
   "cell_type": "markdown",
   "id": "ae3fc5c8",
   "metadata": {},
   "source": [
    "# Data Science Tools and Ecosysten"
   ]
  },
  {
   "cell_type": "markdown",
   "id": "e9b3461b",
   "metadata": {},
   "source": [
    "## Introduction\n",
    "In this notebook, Data Science Tools and Ecosystem are sumarized."
   ]
  },
  {
   "cell_type": "markdown",
   "id": "ca832351",
   "metadata": {},
   "source": [
    "## Data Science Languages\n",
    "Some of the popular languages thaht Data Scientists use are:\n",
    "\n",
    "1. Python\n",
    "2. R\n",
    "3. SQL\n",
    "4. Julia\n",
    "5. Java\n",
    "6. Scala\n",
    "7. SAS\n",
    "8. MATLAB\n",
    "9. Ruby"
   ]
  },
  {
   "cell_type": "markdown",
   "id": "6457d126",
   "metadata": {},
   "source": [
    "## Data Science Libraries\n",
    "Some of the commonly used libraries used by Data Scientists include:\n",
    "1. NumPy\n",
    "2. pandas\n",
    "3. SciPy\n",
    "4. scikit-learn\n",
    "5. Matplotlib\n",
    "6. Seaborn\n",
    "7. TensorFlow\n",
    "8. Keras\n",
    "9. PyTorch\n",
    "10. XGBoost\n",
    "11. LightGBM\n",
    "12. CatBoost\n",
    "13. Statsmodels\n",
    "14. NLTK\n",
    "15. Gensim\n",
    "16. OpenCV\n",
    "17. Beautiful Soup\n",
    "18. H2O.ai\n",
    "19. Dask\n",
    "20. Plotly"
   ]
  },
  {
   "cell_type": "markdown",
   "id": "f968c7f9",
   "metadata": {},
   "source": [
    "| Data Science Tools |\n",
    "|--------------------|\n",
    "| Jupyter            |\n",
    "| GitHub             |\n",
    "| SQL                |\n",
    "\n"
   ]
  },
  {
   "cell_type": "markdown",
   "id": "b4ddc67e",
   "metadata": {},
   "source": [
    "### Below are a few examples of evaluating arithmetic expressions in Python"
   ]
  },
  {
   "cell_type": "code",
   "execution_count": 8,
   "id": "870612d1",
   "metadata": {},
   "outputs": [
    {
     "data": {
      "text/plain": [
       "17"
      ]
     },
     "execution_count": 8,
     "metadata": {},
     "output_type": "execute_result"
    }
   ],
   "source": [
    "#This a simple arithmetic expression to mutiply then add integers\n",
    "(3*4)+5"
   ]
  },
  {
   "cell_type": "code",
   "execution_count": 9,
   "id": "19b756e4",
   "metadata": {},
   "outputs": [
    {
     "data": {
      "text/plain": [
       "3.3333333333333335"
      ]
     },
     "execution_count": 9,
     "metadata": {},
     "output_type": "execute_result"
    }
   ],
   "source": [
    "#This will convert 200 minutes to hours by diving by 60\n",
    "200 / 60"
   ]
  },
  {
   "cell_type": "markdown",
   "id": "1ada484f",
   "metadata": {},
   "source": [
    "**Objectives:**\n",
    "* List libraries used for Data Science.\n",
    "* List popular languages for Data Science.\n",
    "* List Data Science Tools.\n",
    "* Show samples about arithmetic expressions in Python.\n",
    "* Learning about make a Jupyter Notebook file."
   ]
  },
  {
   "cell_type": "markdown",
   "id": "1780586a",
   "metadata": {},
   "source": [
    "## Author\n",
    "Ismael Limo."
   ]
  },
  {
   "cell_type": "code",
   "execution_count": null,
   "id": "942b5052",
   "metadata": {},
   "outputs": [],
   "source": []
  }
 ],
 "metadata": {
  "kernelspec": {
   "display_name": "Python 3 (ipykernel)",
   "language": "python",
   "name": "python3"
  },
  "language_info": {
   "codemirror_mode": {
    "name": "ipython",
    "version": 3
   },
   "file_extension": ".py",
   "mimetype": "text/x-python",
   "name": "python",
   "nbconvert_exporter": "python",
   "pygments_lexer": "ipython3",
   "version": "3.11.4"
  }
 },
 "nbformat": 4,
 "nbformat_minor": 5
}
