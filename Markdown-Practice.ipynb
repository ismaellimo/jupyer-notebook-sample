{
 "cells": [
  {
   "cell_type": "markdown",
   "id": "790acc7b",
   "metadata": {},
   "source": [
    "# This is a First-Level Title"
   ]
  },
  {
   "cell_type": "markdown",
   "id": "ce5d0b24",
   "metadata": {},
   "source": [
    "# Introduction to my Jupyter Notebook practice\n",
    "\n",
    "This Jupyter Notebook serves as a demonstration and documentation for a specific project or analysis. In this notebook, you will find a combination of code cells and Markdown cells that explain and present the information in a structured manner.\n",
    "\n",
    "## Purpose\n",
    "\n",
    "The purpose of this notebook is to:\n",
    "\n",
    "- Show samples of content in Markdown and Python code.\n",
    "\n",
    "## Table of Contents\n",
    "\n",
    "- [Section 1: Data Languages](#languages)\n",
    "- [Section 2: Data Libraries](#libraries)\n",
    "- [Section 3: Data Science Tools](#tools)\n",
    "\n"
   ]
  },
  {
   "cell_type": "markdown",
   "id": "3393c3bb",
   "metadata": {},
   "source": [
    "## <a name=\"languages\"></a>Data Science Languages\n",
    "\n",
    "- Python\n",
    "- R\n",
    "- Julia\n"
   ]
  },
  {
   "cell_type": "markdown",
   "id": "346c3ff4",
   "metadata": {},
   "source": [
    "## <a name=\"libraries\"></a>Data Science Libraries\n",
    "\n",
    "- NumPy\n",
    "- Pandas\n",
    "- Matplotlib\n",
    "- Seaborn\n",
    "- Scikit-Learn\n",
    "- TensorFlow\n",
    "- PyTorch\n"
   ]
  },
  {
   "cell_type": "markdown",
   "id": "509bf38e",
   "metadata": {},
   "source": [
    "## <a name=\"tools\"></a>Data Science Tools\n",
    "\n",
    "| Tool         | Description              |\n",
    "|--------------|--------------------------|\n",
    "| Jupyter      | Interactive notebooks    |\n",
    "| VS Code      | Code editor              |\n",
    "| GitHub       | Version control          |\n",
    "| Docker       | Containerization         |\n",
    "| Tableau      | Data visualization       |\n",
    "| SQL          | Database querying        |\n",
    "| AWS, Azure   | Cloud platforms          |\n"
   ]
  },
  {
   "cell_type": "markdown",
   "id": "e53e63be",
   "metadata": {},
   "source": [
    "## Arithmetic Expression Examples\n",
    "\n",
    "This section provides examples of basic arithmetic operations.\n",
    "\n",
    "1. **Addition:**\n",
    "   - 5 + 3 = 8\n",
    "   - 12 + 7 = 19\n",
    "\n",
    "2. **Subtraction:**\n",
    "   - 10 - 4 = 6\n",
    "   - 15 - 9 = 6\n",
    "\n",
    "3. **Multiplication:**\n",
    "   - 6 * 4 = 24\n",
    "   - 9 * 5 = 45\n",
    "\n",
    "4. **Division:**\n",
    "   - 20 / 4 = 5\n",
    "   - 18 / 3 = 6\n",
    "\n",
    "5. **Mixed Operations:**\n",
    "   - 3 + 2 * 6 = 15 (Follows the order of operations, multiplication first)\n",
    "   - (8 - 2) / 2 = 3 (Operations inside parentheses are done first)\n",
    "\n",
    "6. **Exponents:**\n",
    "   - 2^3 = 8 (2 raised to the power of 3)\n",
    "   - 4^2 = 16 (4 raised to the power of 2)\n",
    "\n",
    "7. **Square Roots:**\n",
    "   - √16 = 4 (Square root of 16)\n",
    "   - √25 = 5 (Square root of 25)\n",
    "\n",
    "8. **Fractions:**\n",
    "   - 1/2 + 1/3 = 5/6 (Adding fractions)\n",
    "   - 3/4 - 1/4 = 1/2 (Subtracting fractions)\n",
    "\n",
    "9. **Decimal Arithmetic:**\n",
    "   - 0.5 + 0.25 = 0.75 (Adding decimals)\n",
    "   - 1.2 * 2.5 = 3.0 (Multiplying decimals)\n",
    "\n",
    "10. **Order of Operations:**\n",
    "    - 3 + 4 * 2 = 11 (Multiplication before addition)\n",
    "    - (3 + 4) * 2 = 14 (Operations inside parentheses first)\n"
   ]
  },
  {
   "cell_type": "code",
   "execution_count": 2,
   "id": "7762a548",
   "metadata": {},
   "outputs": [
    {
     "data": {
      "text/plain": [
       "22"
      ]
     },
     "execution_count": 2,
     "metadata": {},
     "output_type": "execute_result"
    }
   ],
   "source": [
    "# Multiply and add numbers\n",
    "result = (5 * 3) + 7\n",
    "result\n"
   ]
  },
  {
   "cell_type": "code",
   "execution_count": 3,
   "id": "40a33615",
   "metadata": {},
   "outputs": [
    {
     "data": {
      "text/plain": [
       "2.0"
      ]
     },
     "execution_count": 3,
     "metadata": {},
     "output_type": "execute_result"
    }
   ],
   "source": [
    "# Convert minutes to hours\n",
    "minutes = 120\n",
    "hours = minutes / 60\n",
    "hours\n"
   ]
  },
  {
   "cell_type": "markdown",
   "id": "4892173d",
   "metadata": {},
   "source": [
    "## Objectives\n",
    "\n",
    "- Provide an introduction to data science.\n",
    "- Introduce basic arithmetic expressions.\n",
    "- List common data science languages and libraries.\n",
    "\n"
   ]
  },
  {
   "cell_type": "markdown",
   "id": "eb8470b2",
   "metadata": {},
   "source": [
    "## Author\n",
    "\n",
    "- Ismael Limo Llanos\n"
   ]
  },
  {
   "cell_type": "code",
   "execution_count": null,
   "id": "1bd30418",
   "metadata": {},
   "outputs": [],
   "source": []
  }
 ],
 "metadata": {
  "kernelspec": {
   "display_name": "Python 3 (ipykernel)",
   "language": "python",
   "name": "python3"
  },
  "language_info": {
   "codemirror_mode": {
    "name": "ipython",
    "version": 3
   },
   "file_extension": ".py",
   "mimetype": "text/x-python",
   "name": "python",
   "nbconvert_exporter": "python",
   "pygments_lexer": "ipython3",
   "version": "3.11.4"
  }
 },
 "nbformat": 4,
 "nbformat_minor": 5
}
